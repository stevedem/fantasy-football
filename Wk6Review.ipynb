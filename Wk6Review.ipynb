{
 "cells": [
  {
   "cell_type": "markdown",
   "metadata": {},
   "source": [
    "# Week 6 Fantasy Recap\n",
    "\n",
    "Alright gents, another week in the book. For those of you unaware, you are reading the prose of our first '18-'19 season's two-time poster. Let me tell you; it is a miraculous and magical feeling. I was a bit concerned the past few weeks when my team decided to collectively shit the bed but with concerns regarding my fantasy performance repealing, let's get a data-driven look at Week 6 in fantasy land.\n",
    "\n",
    "Gonna take a different, albeit equitable, perspective of last week's pigskin matches. Clearly, the name of the game in fantasy is to assemble a squad of heads that put up numbers week to week. But realistically, a single player's performance can depend *so heavily* on the other players on the field. And for that reason, I'm going to look at the total offensive production of the NFL from Week 6. Dive into the numbers. Do the `data` thing. Ja feel?\n",
    "\n",
    "**Sidebar:** *I thought I'd be able to do a lot more with the data. But the teams names didn't align. I don't have the specific stats for each player from Yahoo. In all fairness anyone that posted after Butson's masterpiece was going to fall short, so might as well add to that diasappointment.*\n",
    "\n",
    "Quick plug for my bo**Y** Buston. Knocked it out of the park last week with the freestyle post. Refined disses, production-level quality and dutiful attention to detail are things we can all get behind. Collectively as a fantasy league, this season marks a graduation or emergence of sorts when looking at the coveted weekly post."
   ]
  },
  {
   "cell_type": "code",
   "execution_count": 7,
   "metadata": {},
   "outputs": [],
   "source": [
    "import numpy as np\n",
    "import pandas as pd\n",
    "import seaborn as sns\n",
    "import matplotlib.pyplot as plt\n",
    "import matplotlib.dates as mdates\n",
    "import matplotlib.ticker as mtick\n",
    "from Matchup import parse_matchup, process_matchups\n",
    "from matplotlib import cm\n",
    "from datetime import datetime\n",
    "import os\n",
    "import urllib.request\n",
    "%matplotlib inline\n",
    "sns.set(style=\"ticks\", color_codes=True)\n",
    "pd.set_option('display.float_format', lambda x: '%.3f' % x)"
   ]
  },
  {
   "cell_type": "code",
   "execution_count": 8,
   "metadata": {},
   "outputs": [],
   "source": [
    "qb = pd.read_excel(r'C:\\Users\\sdemarco\\Desktop\\wk6-stats.xlsx', header=0, sheet_name=0)\n",
    "wr = pd.read_excel(r'C:\\Users\\sdemarco\\Desktop\\wk6-stats.xlsx', header=0, sheet_name=1)\n",
    "rb = pd.read_excel(r'C:\\Users\\sdemarco\\Desktop\\wk6-stats.xlsx', header=0, sheet_name=2)\n",
    "qb = qb[['Name', 'Date', 'Tm', 'Opp', 'Result', 'Cmp', 'Att', 'Cmp%', 'Yds', 'TD', 'Int', 'Rate', 'Sk']]\n",
    "wr = wr[['Name', 'Date', 'Tm', 'Opp', 'Result', 'Tgt', 'Rec', 'Yds', 'Y/R', 'TD', 'Ctch%', 'Y/Tgt']]\n",
    "rb = rb[['Name', 'Date', 'Tm', 'Opp', 'Result', 'Att', 'Yds', 'Y/A', 'TD']]"
   ]
  },
  {
   "cell_type": "code",
   "execution_count": 9,
   "metadata": {},
   "outputs": [
    {
     "name": "stdout",
     "output_type": "stream",
     "text": [
      "@barstoolbass VS We are the smes! complete.\n",
      "Papa Kommy the Wise VS Pasta La Vista complete.\n",
      "Scoopin' Dubs VS Big Data Little Dick complete.\n",
      "The Old Bol & Chain VS Donny Moscow complete.\n",
      "Time to Refi VS The Red Rockets complete.\n"
     ]
    }
   ],
   "source": [
    "df = process_matchups('week_06')\n",
    "df['dif'] = df.act - df.proj\n",
    "df['pct_dif'] = df.dif / df.proj * 100"
   ]
  },
  {
   "cell_type": "markdown",
   "metadata": {},
   "source": [
    "# How this is gonna work\n",
    "\n",
    "Alright, I scooped some data from the `! WORLD WIDE WEB :D !` and plan to go through offensive production in the NFL from three of the largest point-generating perspectives:\n",
    "- Passing\n",
    "- Rushing\n",
    "- Receiving\n",
    "\n",
    "Hopefully out of this we can start to understand that offensive production is something that each and every one of us is fighting for. In the words of our largest melanin-producing fantasy owner, \"The bean is out there, you just gotta go get it.\" In other words, the combined production all NFL teams represents the maximum number of points one can expect to benefit from, from a fantasy perspective. Assemble a squad that takes the largest percentage of offensive production from each of the most productive offenses in the NFL and you've got a championship game on your horizon."
   ]
  },
  {
   "cell_type": "markdown",
   "metadata": {},
   "source": [
    "# Passing\n",
    "\n",
    "From a passing perspective, we're gonna focus on yards and touchdowns. In Week 6, there were 7,805 total passing yards and 53 touchdown throws. This corresponds to *roughly* 312 fantasy points from the yardage and 212 from the TEET bois."
   ]
  },
  {
   "cell_type": "code",
   "execution_count": 10,
   "metadata": {},
   "outputs": [
    {
     "data": {
      "text/plain": [
       "Cmp     658\n",
       "Yds    7805\n",
       "TD       53\n",
       "dtype: int64"
      ]
     },
     "execution_count": 10,
     "metadata": {},
     "output_type": "execute_result"
    }
   ],
   "source": [
    "qb[['Cmp', 'Yds', 'TD']].sum()"
   ]
  },
  {
   "cell_type": "code",
   "execution_count": 26,
   "metadata": {
    "scrolled": false
   },
   "outputs": [
    {
     "data": {
      "text/html": [
       "<div>\n",
       "<style scoped>\n",
       "    .dataframe tbody tr th:only-of-type {\n",
       "        vertical-align: middle;\n",
       "    }\n",
       "\n",
       "    .dataframe tbody tr th {\n",
       "        vertical-align: top;\n",
       "    }\n",
       "\n",
       "    .dataframe thead th {\n",
       "        text-align: right;\n",
       "    }\n",
       "</style>\n",
       "<table border=\"1\" class=\"dataframe\">\n",
       "  <thead>\n",
       "    <tr style=\"text-align: right;\">\n",
       "      <th></th>\n",
       "      <th>Tm</th>\n",
       "      <th>Yds</th>\n",
       "      <th>TD</th>\n",
       "    </tr>\n",
       "  </thead>\n",
       "  <tbody>\n",
       "    <tr>\n",
       "      <th>10</th>\n",
       "      <td>GNB</td>\n",
       "      <td>425</td>\n",
       "      <td>2</td>\n",
       "    </tr>\n",
       "    <tr>\n",
       "      <th>27</th>\n",
       "      <td>TAM</td>\n",
       "      <td>395</td>\n",
       "      <td>4</td>\n",
       "    </tr>\n",
       "    <tr>\n",
       "      <th>17</th>\n",
       "      <td>MIA</td>\n",
       "      <td>380</td>\n",
       "      <td>3</td>\n",
       "    </tr>\n",
       "  </tbody>\n",
       "</table>\n",
       "</div>"
      ],
      "text/plain": [
       "     Tm  Yds  TD\n",
       "10  GNB  425   2\n",
       "27  TAM  395   4\n",
       "17  MIA  380   3"
      ]
     },
     "execution_count": 26,
     "metadata": {},
     "output_type": "execute_result"
    }
   ],
   "source": [
    "tm = qb.groupby('Tm')['Yds', 'TD'].sum().reset_index()\n",
    "tm.sort_values(by='Yds', ascending=False)[:3]"
   ]
  },
  {
   "cell_type": "code",
   "execution_count": 24,
   "metadata": {},
   "outputs": [
    {
     "data": {
      "text/html": [
       "<div>\n",
       "<style scoped>\n",
       "    .dataframe tbody tr th:only-of-type {\n",
       "        vertical-align: middle;\n",
       "    }\n",
       "\n",
       "    .dataframe tbody tr th {\n",
       "        vertical-align: top;\n",
       "    }\n",
       "\n",
       "    .dataframe thead th {\n",
       "        text-align: right;\n",
       "    }\n",
       "</style>\n",
       "<table border=\"1\" class=\"dataframe\">\n",
       "  <thead>\n",
       "    <tr style=\"text-align: right;\">\n",
       "      <th></th>\n",
       "      <th>Tm</th>\n",
       "      <th>Yds</th>\n",
       "      <th>TD</th>\n",
       "    </tr>\n",
       "  </thead>\n",
       "  <tbody>\n",
       "    <tr>\n",
       "      <th>12</th>\n",
       "      <td>IND</td>\n",
       "      <td>301</td>\n",
       "      <td>4</td>\n",
       "    </tr>\n",
       "    <tr>\n",
       "      <th>27</th>\n",
       "      <td>TAM</td>\n",
       "      <td>395</td>\n",
       "      <td>4</td>\n",
       "    </tr>\n",
       "    <tr>\n",
       "      <th>14</th>\n",
       "      <td>KAN</td>\n",
       "      <td>352</td>\n",
       "      <td>4</td>\n",
       "    </tr>\n",
       "    <tr>\n",
       "      <th>25</th>\n",
       "      <td>SEA</td>\n",
       "      <td>222</td>\n",
       "      <td>3</td>\n",
       "    </tr>\n",
       "    <tr>\n",
       "      <th>5</th>\n",
       "      <td>CHI</td>\n",
       "      <td>316</td>\n",
       "      <td>3</td>\n",
       "    </tr>\n",
       "  </tbody>\n",
       "</table>\n",
       "</div>"
      ],
      "text/plain": [
       "     Tm  Yds  TD\n",
       "12  IND  301   4\n",
       "27  TAM  395   4\n",
       "14  KAN  352   4\n",
       "25  SEA  222   3\n",
       "5   CHI  316   3"
      ]
     },
     "execution_count": 24,
     "metadata": {},
     "output_type": "execute_result"
    }
   ],
   "source": [
    "tm.sort_values(by='TD', ascending=False)[:5]"
   ]
  },
  {
   "cell_type": "markdown",
   "metadata": {},
   "source": [
    "### Bottom-line\n",
    "\n",
    "Basically, the Packers, Bucs and Dolphins made up a lot of the 'ball-through-air' production this week, while the Colts, Bucs, 49ers, Seahawks and Bears had 3 or more TEET bois."
   ]
  },
  {
   "cell_type": "markdown",
   "metadata": {},
   "source": [
    "## Rushing\n",
    "\n",
    "From a rushing perspective, we're gonna focus on yards and touchdowns. In Week 6, there were 3,743 yards on the ground and 24 rushing touchdowns. That makes up *roughly* 374.3 fantasy points from the ground on yardage and 144 from TEET bois."
   ]
  },
  {
   "cell_type": "code",
   "execution_count": 12,
   "metadata": {},
   "outputs": [
    {
     "data": {
      "text/plain": [
       "Yds    3743\n",
       "TD       24\n",
       "dtype: int64"
      ]
     },
     "execution_count": 12,
     "metadata": {},
     "output_type": "execute_result"
    }
   ],
   "source": [
    "rb[['Yds', 'TD']].sum()"
   ]
  },
  {
   "cell_type": "code",
   "execution_count": 28,
   "metadata": {},
   "outputs": [
    {
     "data": {
      "text/html": [
       "<div>\n",
       "<style scoped>\n",
       "    .dataframe tbody tr th:only-of-type {\n",
       "        vertical-align: middle;\n",
       "    }\n",
       "\n",
       "    .dataframe tbody tr th {\n",
       "        vertical-align: top;\n",
       "    }\n",
       "\n",
       "    .dataframe thead th {\n",
       "        text-align: right;\n",
       "    }\n",
       "</style>\n",
       "<table border=\"1\" class=\"dataframe\">\n",
       "  <thead>\n",
       "    <tr style=\"text-align: right;\">\n",
       "      <th></th>\n",
       "      <th>Tm</th>\n",
       "      <th>Yds</th>\n",
       "      <th>TD</th>\n",
       "    </tr>\n",
       "  </thead>\n",
       "  <tbody>\n",
       "    <tr>\n",
       "      <th>16</th>\n",
       "      <td>LAR</td>\n",
       "      <td>270</td>\n",
       "      <td>2</td>\n",
       "    </tr>\n",
       "    <tr>\n",
       "      <th>15</th>\n",
       "      <td>LAC</td>\n",
       "      <td>246</td>\n",
       "      <td>3</td>\n",
       "    </tr>\n",
       "    <tr>\n",
       "      <th>8</th>\n",
       "      <td>DAL</td>\n",
       "      <td>206</td>\n",
       "      <td>2</td>\n",
       "    </tr>\n",
       "  </tbody>\n",
       "</table>\n",
       "</div>"
      ],
      "text/plain": [
       "     Tm  Yds  TD\n",
       "16  LAR  270   2\n",
       "15  LAC  246   3\n",
       "8   DAL  206   2"
      ]
     },
     "execution_count": 28,
     "metadata": {},
     "output_type": "execute_result"
    }
   ],
   "source": [
    "rush = rb.groupby('Tm')['Yds', 'TD'].sum().reset_index()\n",
    "rush.sort_values(by='Yds', ascending=False)[:3]"
   ]
  },
  {
   "cell_type": "code",
   "execution_count": 30,
   "metadata": {},
   "outputs": [
    {
     "data": {
      "text/html": [
       "<div>\n",
       "<style scoped>\n",
       "    .dataframe tbody tr th:only-of-type {\n",
       "        vertical-align: middle;\n",
       "    }\n",
       "\n",
       "    .dataframe tbody tr th {\n",
       "        vertical-align: top;\n",
       "    }\n",
       "\n",
       "    .dataframe thead th {\n",
       "        text-align: right;\n",
       "    }\n",
       "</style>\n",
       "<table border=\"1\" class=\"dataframe\">\n",
       "  <thead>\n",
       "    <tr style=\"text-align: right;\">\n",
       "      <th></th>\n",
       "      <th>Tm</th>\n",
       "      <th>Yds</th>\n",
       "      <th>TD</th>\n",
       "    </tr>\n",
       "  </thead>\n",
       "  <tbody>\n",
       "    <tr>\n",
       "      <th>15</th>\n",
       "      <td>LAC</td>\n",
       "      <td>246</td>\n",
       "      <td>3</td>\n",
       "    </tr>\n",
       "    <tr>\n",
       "      <th>19</th>\n",
       "      <td>NWE</td>\n",
       "      <td>173</td>\n",
       "      <td>3</td>\n",
       "    </tr>\n",
       "    <tr>\n",
       "      <th>2</th>\n",
       "      <td>BAL</td>\n",
       "      <td>123</td>\n",
       "      <td>2</td>\n",
       "    </tr>\n",
       "    <tr>\n",
       "      <th>24</th>\n",
       "      <td>PIT</td>\n",
       "      <td>112</td>\n",
       "      <td>2</td>\n",
       "    </tr>\n",
       "    <tr>\n",
       "      <th>8</th>\n",
       "      <td>DAL</td>\n",
       "      <td>206</td>\n",
       "      <td>2</td>\n",
       "    </tr>\n",
       "  </tbody>\n",
       "</table>\n",
       "</div>"
      ],
      "text/plain": [
       "     Tm  Yds  TD\n",
       "15  LAC  246   3\n",
       "19  NWE  173   3\n",
       "2   BAL  123   2\n",
       "24  PIT  112   2\n",
       "8   DAL  206   2"
      ]
     },
     "execution_count": 30,
     "metadata": {},
     "output_type": "execute_result"
    }
   ],
   "source": [
    "rush.sort_values(by='TD', ascending=False)[:5]"
   ]
  },
  {
   "cell_type": "markdown",
   "metadata": {},
   "source": [
    "### Bottom-line\n",
    "\n",
    "THe Rams, Chargers and Cowgirls had most of their production on the ground, all sporting 200+ rushing yards. Rushing touchdowns included 2+ from the Chargers, Patriots, Ravens, Steelers and Cowgirls."
   ]
  },
  {
   "cell_type": "markdown",
   "metadata": {},
   "source": [
    "## Receiving\n",
    "\n",
    "From a receiving perspective, we want to look at catches, yards and TEET bois. In Week 6, there were 658 receptions, representing that same 7,805 yards through the air. Of those receptions, 53 were TEET bois."
   ]
  },
  {
   "cell_type": "code",
   "execution_count": 13,
   "metadata": {},
   "outputs": [
    {
     "data": {
      "text/plain": [
       "Rec     658\n",
       "Yds    7805\n",
       "TD       53\n",
       "dtype: int64"
      ]
     },
     "execution_count": 13,
     "metadata": {},
     "output_type": "execute_result"
    }
   ],
   "source": [
    "wr[['Rec', 'Yds', 'TD']].sum()"
   ]
  },
  {
   "cell_type": "code",
   "execution_count": 38,
   "metadata": {},
   "outputs": [
    {
     "data": {
      "text/html": [
       "<div>\n",
       "<style scoped>\n",
       "    .dataframe tbody tr th:only-of-type {\n",
       "        vertical-align: middle;\n",
       "    }\n",
       "\n",
       "    .dataframe tbody tr th {\n",
       "        vertical-align: top;\n",
       "    }\n",
       "\n",
       "    .dataframe thead th {\n",
       "        text-align: right;\n",
       "    }\n",
       "</style>\n",
       "<table border=\"1\" class=\"dataframe\">\n",
       "  <thead>\n",
       "    <tr style=\"text-align: right;\">\n",
       "      <th></th>\n",
       "      <th>Tm</th>\n",
       "      <th>Rec</th>\n",
       "      <th>Yds</th>\n",
       "      <th>TD</th>\n",
       "    </tr>\n",
       "  </thead>\n",
       "  <tbody>\n",
       "    <tr>\n",
       "      <th>24</th>\n",
       "      <td>PIT</td>\n",
       "      <td>32</td>\n",
       "      <td>369</td>\n",
       "      <td>1</td>\n",
       "    </tr>\n",
       "    <tr>\n",
       "      <th>1</th>\n",
       "      <td>ATL</td>\n",
       "      <td>31</td>\n",
       "      <td>354</td>\n",
       "      <td>3</td>\n",
       "    </tr>\n",
       "    <tr>\n",
       "      <th>27</th>\n",
       "      <td>TAM</td>\n",
       "      <td>30</td>\n",
       "      <td>395</td>\n",
       "      <td>4</td>\n",
       "    </tr>\n",
       "  </tbody>\n",
       "</table>\n",
       "</div>"
      ],
      "text/plain": [
       "     Tm  Rec  Yds  TD\n",
       "24  PIT   32  369   1\n",
       "1   ATL   31  354   3\n",
       "27  TAM   30  395   4"
      ]
     },
     "execution_count": 38,
     "metadata": {},
     "output_type": "execute_result"
    }
   ],
   "source": [
    "catch = wr.groupby('Tm')['Rec', 'Yds', 'TD'].sum().reset_index()\n",
    "catch.sort_values(by='Rec', ascending=False)[:3]"
   ]
  },
  {
   "cell_type": "code",
   "execution_count": 39,
   "metadata": {},
   "outputs": [
    {
     "data": {
      "text/html": [
       "<div>\n",
       "<style scoped>\n",
       "    .dataframe tbody tr th:only-of-type {\n",
       "        vertical-align: middle;\n",
       "    }\n",
       "\n",
       "    .dataframe tbody tr th {\n",
       "        vertical-align: top;\n",
       "    }\n",
       "\n",
       "    .dataframe thead th {\n",
       "        text-align: right;\n",
       "    }\n",
       "</style>\n",
       "<table border=\"1\" class=\"dataframe\">\n",
       "  <thead>\n",
       "    <tr style=\"text-align: right;\">\n",
       "      <th></th>\n",
       "      <th>Tm</th>\n",
       "      <th>Rec</th>\n",
       "      <th>Yds</th>\n",
       "      <th>TD</th>\n",
       "    </tr>\n",
       "  </thead>\n",
       "  <tbody>\n",
       "    <tr>\n",
       "      <th>10</th>\n",
       "      <td>GNB</td>\n",
       "      <td>25</td>\n",
       "      <td>425</td>\n",
       "      <td>2</td>\n",
       "    </tr>\n",
       "    <tr>\n",
       "      <th>27</th>\n",
       "      <td>TAM</td>\n",
       "      <td>30</td>\n",
       "      <td>395</td>\n",
       "      <td>4</td>\n",
       "    </tr>\n",
       "    <tr>\n",
       "      <th>17</th>\n",
       "      <td>MIA</td>\n",
       "      <td>28</td>\n",
       "      <td>380</td>\n",
       "      <td>3</td>\n",
       "    </tr>\n",
       "  </tbody>\n",
       "</table>\n",
       "</div>"
      ],
      "text/plain": [
       "     Tm  Rec  Yds  TD\n",
       "10  GNB   25  425   2\n",
       "27  TAM   30  395   4\n",
       "17  MIA   28  380   3"
      ]
     },
     "execution_count": 39,
     "metadata": {},
     "output_type": "execute_result"
    }
   ],
   "source": [
    "catch.sort_values(by='Yds', ascending=False)[:3]"
   ]
  },
  {
   "cell_type": "code",
   "execution_count": 40,
   "metadata": {},
   "outputs": [
    {
     "data": {
      "text/html": [
       "<div>\n",
       "<style scoped>\n",
       "    .dataframe tbody tr th:only-of-type {\n",
       "        vertical-align: middle;\n",
       "    }\n",
       "\n",
       "    .dataframe tbody tr th {\n",
       "        vertical-align: top;\n",
       "    }\n",
       "\n",
       "    .dataframe thead th {\n",
       "        text-align: right;\n",
       "    }\n",
       "</style>\n",
       "<table border=\"1\" class=\"dataframe\">\n",
       "  <thead>\n",
       "    <tr style=\"text-align: right;\">\n",
       "      <th></th>\n",
       "      <th>Tm</th>\n",
       "      <th>Rec</th>\n",
       "      <th>Yds</th>\n",
       "      <th>TD</th>\n",
       "    </tr>\n",
       "  </thead>\n",
       "  <tbody>\n",
       "    <tr>\n",
       "      <th>12</th>\n",
       "      <td>IND</td>\n",
       "      <td>23</td>\n",
       "      <td>301</td>\n",
       "      <td>4</td>\n",
       "    </tr>\n",
       "    <tr>\n",
       "      <th>27</th>\n",
       "      <td>TAM</td>\n",
       "      <td>30</td>\n",
       "      <td>395</td>\n",
       "      <td>4</td>\n",
       "    </tr>\n",
       "    <tr>\n",
       "      <th>14</th>\n",
       "      <td>KAN</td>\n",
       "      <td>23</td>\n",
       "      <td>352</td>\n",
       "      <td>4</td>\n",
       "    </tr>\n",
       "  </tbody>\n",
       "</table>\n",
       "</div>"
      ],
      "text/plain": [
       "     Tm  Rec  Yds  TD\n",
       "12  IND   23  301   4\n",
       "27  TAM   30  395   4\n",
       "14  KAN   23  352   4"
      ]
     },
     "execution_count": 40,
     "metadata": {},
     "output_type": "execute_result"
    }
   ],
   "source": [
    "catch.sort_values(by='TD', ascending=False)[:3]"
   ]
  },
  {
   "cell_type": "markdown",
   "metadata": {},
   "source": [
    "### Bottom-line\n",
    "\n",
    "The Steelers, Falcons and Bucs had the highest number of total receptions (30+). The Packers, Bucs and Dolphins had 380+ yards through the air. The Colts, Bucs, and 49ers all had 4 TEET bois in the air."
   ]
  },
  {
   "cell_type": "markdown",
   "metadata": {},
   "source": [
    "## WOW Steve! That was literally pointless!\n",
    "\n",
    "Well, yeah. I know. What would've made this interesting is to include the proportion of offensive production each player is responsible for and seeing how those numbers relate to overall fantasy production. By drafting the heads who have the highest relative proportion of offensive production, do you guarantee more fantasy points? By playing two RB's from a squad that splits workloads between two backs and runs the ball (effectively) almost every play more beneficial than playing a single RB from a trash team that has a shitty O-line?\n",
    "\n",
    "I was hoping to join the data from individual fantasy teams with the data from NFL teams but it didn't happen. There's no data out there.\n",
    "\n",
    "This is the kinda garbage I was after. But maybe if I can lock down some better Foo'in data I'll be able to do that the next time I *inevitably* post again."
   ]
  }
 ],
 "metadata": {
  "kernelspec": {
   "display_name": "Python 3",
   "language": "python",
   "name": "python3"
  },
  "language_info": {
   "codemirror_mode": {
    "name": "ipython",
    "version": 3
   },
   "file_extension": ".py",
   "mimetype": "text/x-python",
   "name": "python",
   "nbconvert_exporter": "python",
   "pygments_lexer": "ipython3",
   "version": "3.6.5"
  }
 },
 "nbformat": 4,
 "nbformat_minor": 2
}
